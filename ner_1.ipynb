{
 "cells": [
  {
   "cell_type": "code",
   "execution_count": 2,
   "metadata": {
    "scrolled": false
   },
   "outputs": [],
   "source": [
    "import pandas as pd\n",
    "pd.set_option('display.max_colwidth', -1)"
   ]
  },
  {
   "cell_type": "code",
   "execution_count": 4,
   "metadata": {},
   "outputs": [],
   "source": [
    "data = pd.read_csv('~/pristavki.csv', header=None, names=['text'])"
   ]
  },
  {
   "cell_type": "code",
   "execution_count": 6,
   "metadata": {},
   "outputs": [],
   "source": [
    "from yargy import Parser, rule, or_\n",
    "from yargy.predicates import in_, in_caseless\n",
    "from yargy.tokenizer import MorphTokenizer\n",
    "from yargy.pipelines import morph_pipeline, caseless_pipeline\n",
    "from yargy.interpretation import fact\n",
    "from IPython.display import display"
   ]
  },
  {
   "cell_type": "code",
   "execution_count": 7,
   "metadata": {},
   "outputs": [],
   "source": [
    "Game = fact(\n",
    "    'Game',\n",
    "    ['title', 'subtitle', 'series_number']\n",
    ")"
   ]
  },
  {
   "cell_type": "code",
   "execution_count": 33,
   "metadata": {},
   "outputs": [],
   "source": [
    "CoD_subtitles = {\n",
    "    'MW': 'Modern Warfare',\n",
    "    'Black Ops': 'Black Ops',\n",
    "    'Infinite Warfare': 'Infinite Warfare',\n",
    "    'Advanced Warfare': 'Advanced Warfare',\n",
    "    'Modern Warfare': 'Modern Warfare',\n",
    "    'World at War': 'World at War',\n",
    "    'Ghosts': 'Ghosts'\n",
    "}\n",
    "\n",
    "CoD_series_numbers = {\n",
    "    'III': '3',\n",
    "    '1': '1',\n",
    "    '2': '2',\n",
    "    '3': '3',\n",
    "}\n",
    "\n",
    "CoD = rule(\n",
    "    morph_pipeline(['Call of Duty']).interpretation(Game.title.const('Call of Duty:')),\n",
    "    morph_pipeline(['Black Ops', 'Infinite Warfare', 'Advanced Warfare', 'Modern Warfare', 'MW', 'World at War', 'Ghosts']).interpretation(Game.subtitle.custom(CoD_subtitles.get)).optional(),\n",
    "    morph_pipeline(['1', '2', '3', 'III']).interpretation(Game.series_number.custom(CoD_series_numbers.get)).optional(),\n",
    ")"
   ]
  },
  {
   "cell_type": "code",
   "execution_count": 34,
   "metadata": {},
   "outputs": [],
   "source": [
    "Fifa = rule(\n",
    "    morph_pipeline(['Fifa', 'фифа']).interpretation(Game.title.const('FIFA')),\n",
    "    morph_pipeline(['16', '11', '15', '2004']).interpretation(Game.series_number).optional(),\n",
    ")"
   ]
  },
  {
   "cell_type": "code",
   "execution_count": 35,
   "metadata": {},
   "outputs": [],
   "source": [
    "GAME = or_(CoD,Fifa).interpretation(Game)\n",
    "\n",
    "parser = Parser(GAME)"
   ]
  },
  {
   "cell_type": "code",
   "execution_count": 36,
   "metadata": {},
   "outputs": [],
   "source": [
    "matches = []\n",
    "\n",
    "for sent in data.text:\n",
    "    for match in parser.findall(sent):\n",
    "        matches.append(match.fact)"
   ]
  },
  {
   "cell_type": "code",
   "execution_count": 38,
   "metadata": {},
   "outputs": [
    {
     "name": "stdout",
     "output_type": "stream",
     "text": [
      "707\n"
     ]
    }
   ],
   "source": [
    "print(len(matches))\n",
    "# for m in matches:\n",
    "#     print(m.title, m.subtitle, m.series_number)"
   ]
  },
  {
   "cell_type": "code",
   "execution_count": null,
   "metadata": {},
   "outputs": [],
   "source": [
    "Метод позволяет находить нужные сущности, что заданы правилами, \n",
    "при этом, что интересно, он позволяет находить их даже в случае, если в середине встречаются лишние символы:\n",
    "так, прочитав \"Call of Duty: Black Ops\", он находит название игры, хотя там есть и лишнее двоеточие\n",
    "Также стоит отметить, что отсутствие пробелов между частями сущности не мешает находить сущность и ее парсить:\n",
    "так, \"фифа15\" преобразуется в \"FIFA None 15\""
   ]
  },
  {
   "cell_type": "code",
   "execution_count": null,
   "metadata": {},
   "outputs": [],
   "source": []
  }
 ],
 "metadata": {
  "kernelspec": {
   "display_name": "Python 3",
   "language": "python",
   "name": "python3"
  },
  "language_info": {
   "codemirror_mode": {
    "name": "ipython",
    "version": 3
   },
   "file_extension": ".py",
   "mimetype": "text/x-python",
   "name": "python",
   "nbconvert_exporter": "python",
   "pygments_lexer": "ipython3",
   "version": "3.6.8"
  }
 },
 "nbformat": 4,
 "nbformat_minor": 2
}
