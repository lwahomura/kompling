{
  "nbformat": 4,
  "nbformat_minor": 0,
  "metadata": {
    "kernelspec": {
      "display_name": "Python 3",
      "language": "python",
      "name": "python3"
    },
    "language_info": {
      "codemirror_mode": {
        "name": "ipython",
        "version": 3
      },
      "file_extension": ".py",
      "mimetype": "text/x-python",
      "name": "python",
      "nbconvert_exporter": "python",
      "pygments_lexer": "ipython3",
      "version": "3.6.3"
    },
    "colab": {
      "name": "Topic_model_gensim_sklearn.ipynb",
      "provenance": [],
      "collapsed_sections": []
    }
  },
  "cells": [
    {
      "cell_type": "markdown",
      "metadata": {
        "id": "sfvmMNlzOnms",
        "colab_type": "text"
      },
      "source": [
        "# Тематическое моделирование"
      ]
    },
    {
      "cell_type": "markdown",
      "metadata": {
        "id": "0mHoW8duOnm2",
        "colab_type": "text"
      },
      "source": [
        "Задача тематического моделирования состоит в том, чтобы разложить слова, употребляющиеся в корпусе на темы и приписать эти темы каждому документу в корпусе.\n",
        "\n",
        "Помимо анализа тематического наполнения корпуса, мематическое моделирование может использоваться для:\n",
        "\n",
        "1) построения вектроных представлений текстов (числа показывают насколько тема выражена в тексте). Такие представления могут быть лучше обычных (TfidfVectorizer, CountVectorizer), т.к. позволяют находить близкие документы даже если в них нет одинаковых слов (но есть слова одной тематики). Тематические векторы могут использоваться для поиска, рекомендаций или как признаки в классификации. \n",
        "\n",
        "2) приписывания тэгов текстам. Так можно автоматически выделять в текстовых потоках тренды, горячие темы. Тэги можно использовать как фильтр в поисковых системах. Тэги нужно приписывать темам вручную, но это проще чем размечать обучающую выборку, так как слова в тематике сразу подказывают название. \n",
        "\n",
        "3) составления тематических словарей\n",
        "\n"
      ]
    },
    {
      "cell_type": "markdown",
      "metadata": {
        "id": "GMp72HelOnm9",
        "colab_type": "text"
      },
      "source": [
        "Кроме обычных текстов тематическое моделирование применяется к многим другим данным: запросам пользователей, сайтам, на которые заходят пользователи, музыке, которую слушают пользователи, покупкам в одной корзине, банковским транзакциям и даже днк. \n",
        "\n",
        "\n",
        "Все подходы к тематическому моделированию так или иначе основнованы на:\n",
        "\n",
        "1) модели мешка слов (т.е. порядок слов в документах не учитывается)  \n",
        "2) независимости документов между собой  (т.е. употребление слова W в тексте D_1 никак не влияет на слова в документе D_2)  \n",
        "3) дистрибутивной гипотезе (слова, употребляющиеся вместе, объединяются в темы)\n",
        "\n"
      ]
    },
    {
      "cell_type": "markdown",
      "metadata": {
        "id": "koZmkiQSOnnC",
        "colab_type": "text"
      },
      "source": [
        "В этой тетрадке для получения тематических моделей используются LDA из gensim и NMF из sklearn."
      ]
    },
    {
      "cell_type": "markdown",
      "metadata": {
        "id": "lJkOpCQWOnnJ",
        "colab_type": "text"
      },
      "source": [
        "Про LDA (и в целом тематическое моделирование) можно почитать вот эту статью - https://sysblok.ru/knowhow/kak-ponjat-o-chem-tekst-ne-chitaja-ego/"
      ]
    },
    {
      "cell_type": "code",
      "metadata": {
        "id": "hdlbvoveOnnR",
        "colab_type": "code",
        "colab": {}
      },
      "source": [
        "import gensim\n",
        "import json\n",
        "import re\n",
        "import pandas as pd\n",
        "from nltk.tokenize import word_tokenize\n",
        "from nltk.corpus import stopwords\n",
        "from pymorphy2 import MorphAnalyzer\n",
        "import pyLDAvis.gensim\n",
        "import string\n",
        "from collections import Counter\n",
        "import warnings\n",
        "warnings.filterwarnings(\"ignore\")\n",
        "\n",
        "morph = MorphAnalyzer()"
      ],
      "execution_count": 0,
      "outputs": []
    },
    {
      "cell_type": "markdown",
      "metadata": {
        "id": "ebmzWb8GOnni",
        "colab_type": "text"
      },
      "source": [
        "## Данные"
      ]
    },
    {
      "cell_type": "markdown",
      "metadata": {
        "id": "fn9C_TckOnno",
        "colab_type": "text"
      },
      "source": [
        "Возьмем 4 тыс статьи с Хабра. Это мало для хорошей тематической модели, но иначе у нас просто ничего не обучится за семинар."
      ]
    },
    {
      "cell_type": "markdown",
      "metadata": {
        "id": "REFH91GVOnnt",
        "colab_type": "text"
      },
      "source": [
        "В текстах есть тэги. Потрем их. Ещё токенизируем самым простым способом и нормализуем Pymorphy."
      ]
    },
    {
      "cell_type": "code",
      "metadata": {
        "id": "8hkRUgcTOnnx",
        "colab_type": "code",
        "colab": {}
      },
      "source": [
        "stops = set(stopwords.words('russian')) | {'gt',}\n",
        "def remove_tags(text):\n",
        "    return re.sub(r'<[^>]+>', '', text)\n",
        "\n",
        "# чтобы быстрее нормализовать тексты, создадим словарь всех словоформ\n",
        "# нормазуем каждую 1 раз и положим в словарь\n",
        "# затем пройдем по текстам и сопоставим каждой словоформе её нормальную форму\n",
        "\n",
        "def is_number(s):\n",
        "    try:\n",
        "        float(s)\n",
        "        return True\n",
        "    except ValueError:\n",
        "        return False\n",
        "\n",
        "def clear_text(text):\n",
        "    fin_text = []\n",
        "    for word in text:\n",
        "        if is_number(word):\n",
        "          fin_text.append('NUMBER')\n",
        "          continue\n",
        "        if len(word) == 1:\n",
        "          if word.isalpha():\n",
        "              fin_text.append('VARIABLE')\n",
        "          continue\n",
        "        if re.search('[^a-zа-я\\-.0-9_]', word) is not None:\n",
        "          continue\n",
        "        fin_text.append(word)\n",
        "    return fin_text\n",
        "\n",
        "def opt_normalize(texts, top=None):\n",
        "    uniq = Counter()\n",
        "    for text in texts:\n",
        "        text = clear_text(text)\n",
        "        uniq.update(text)\n",
        "    \n",
        "    norm_uniq = {word:morph.parse(word)[0].normal_form for word, _ in uniq.most_common(top)}\n",
        "    \n",
        "    norm_texts = []\n",
        "    for text in texts:\n",
        "        \n",
        "        norm_words = [norm_uniq.get(word) for word in text]\n",
        "        norm_words = [word for word in norm_words if word and word not in stops]\n",
        "        norm_texts.append(norm_words)\n",
        "        \n",
        "    return norm_texts\n",
        "\n",
        "def tokenize(text):\n",
        "    words = [word.strip(string.punctuation) for word in text.split()]\n",
        "    words = [word for word in words if word]\n",
        "    \n",
        "    return words"
      ],
      "execution_count": 0,
      "outputs": []
    },
    {
      "cell_type": "code",
      "metadata": {
        "id": "gTENItEWPvDd",
        "colab_type": "code",
        "outputId": "91d894a9-034b-4cd3-d4a6-48cdaa909c2f",
        "colab": {
          "resources": {
            "http://localhost:8080/nbextensions/google.colab/files.js": {
              "data": "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",
              "ok": true,
              "headers": [
                [
                  "content-type",
                  "application/javascript"
                ]
              ],
              "status": 200,
              "status_text": "OK"
            }
          },
          "base_uri": "https://localhost:8080/",
          "height": 83
        }
      },
      "source": [
        "from google.colab import files\n",
        "\n",
        "uploaded = files.upload()"
      ],
      "execution_count": 0,
      "outputs": [
        {
          "output_type": "display_data",
          "data": {
            "text/html": [
              "\n",
              "     <input type=\"file\" id=\"files-1f80ef0a-742c-4c35-bd06-523b5da253fc\" name=\"files[]\" multiple disabled />\n",
              "     <output id=\"result-1f80ef0a-742c-4c35-bd06-523b5da253fc\">\n",
              "      Upload widget is only available when the cell has been executed in the\n",
              "      current browser session. Please rerun this cell to enable.\n",
              "      </output>\n",
              "      <script src=\"/nbextensions/google.colab/files.js\"></script> "
            ],
            "text/plain": [
              "<IPython.core.display.HTML object>"
            ]
          },
          "metadata": {
            "tags": []
          }
        },
        {
          "output_type": "stream",
          "text": [
            "Saving habr_texts.txt to habr_texts.txt\n"
          ],
          "name": "stdout"
        }
      ]
    },
    {
      "cell_type": "code",
      "metadata": {
        "id": "JbCDV-tkOnoA",
        "colab_type": "code",
        "colab": {}
      },
      "source": [
        "texts = open('habr_texts.txt').read().splitlines()\n",
        "texts = opt_normalize([tokenize(remove_tags(text.lower())) for text in texts], 30000)"
      ],
      "execution_count": 0,
      "outputs": []
    },
    {
      "cell_type": "code",
      "metadata": {
        "id": "q-YExvWQOnop",
        "colab_type": "code",
        "colab": {}
      },
      "source": [
        "# для нграммов\n",
        "ph = gensim.models.Phrases(texts, scoring='npmi', threshold=0.4) # threshold можно подбирать\n",
        "p = gensim.models.phrases.Phraser(ph)\n",
        "ngrammed_texts = p[texts]"
      ],
      "execution_count": 0,
      "outputs": []
    },
    {
      "cell_type": "markdown",
      "metadata": {
        "id": "kqi14dFJOno3",
        "colab_type": "text"
      },
      "source": [
        "### Тематическое моделирование в gensim"
      ]
    },
    {
      "cell_type": "markdown",
      "metadata": {
        "id": "ecQ8f5JmOno6",
        "colab_type": "text"
      },
      "source": [
        "Для моделей нужно сделать словарь."
      ]
    },
    {
      "cell_type": "code",
      "metadata": {
        "id": "pn-tDittOno9",
        "colab_type": "code",
        "colab": {}
      },
      "source": [
        "dictinary = gensim.corpora.Dictionary(texts)"
      ],
      "execution_count": 0,
      "outputs": []
    },
    {
      "cell_type": "code",
      "metadata": {
        "id": "FwlLzYIZdmet",
        "colab_type": "code",
        "colab": {}
      },
      "source": [
        " dictinary.filter_n_most_frequent(133) # ~1%"
      ],
      "execution_count": 0,
      "outputs": []
    },
    {
      "cell_type": "code",
      "metadata": {
        "id": "UqB3dH9zOnpS",
        "colab_type": "code",
        "colab": {}
      },
      "source": [
        "dictinary.filter_extremes(no_below=20)\n",
        "dictinary.compactify()"
      ],
      "execution_count": 0,
      "outputs": []
    },
    {
      "cell_type": "code",
      "metadata": {
        "id": "7Xbd3nrBOnpi",
        "colab_type": "code",
        "outputId": "97dd3cde-a7c8-43b8-c184-4eb247aad04e",
        "colab": {
          "base_uri": "https://localhost:8080/",
          "height": 34
        }
      },
      "source": [
        "print(dictinary)"
      ],
      "execution_count": 0,
      "outputs": [
        {
          "output_type": "stream",
          "text": [
            "Dictionary(7191 unique tokens: ['2-х', 'address', 'api', 'architecture', 'assembly']...)\n"
          ],
          "name": "stdout"
        }
      ]
    },
    {
      "cell_type": "markdown",
      "metadata": {
        "id": "PhulWH5tOnp1",
        "colab_type": "text"
      },
      "source": [
        "Преобразуем наши тексты в мешки слов. "
      ]
    },
    {
      "cell_type": "code",
      "metadata": {
        "id": "TsnHjgRXOnp6",
        "colab_type": "code",
        "colab": {}
      },
      "source": [
        "corpus = [dictinary.doc2bow(text) for text in texts]"
      ],
      "execution_count": 0,
      "outputs": []
    },
    {
      "cell_type": "markdown",
      "metadata": {
        "id": "wKn1OIVUOnqH",
        "colab_type": "text"
      },
      "source": [
        "Про параметры можно почитать в документации:"
      ]
    },
    {
      "cell_type": "code",
      "metadata": {
        "id": "w07YPK3YOnqK",
        "colab_type": "code",
        "colab": {}
      },
      "source": [
        "?gensim.models.LdaMulticore"
      ],
      "execution_count": 0,
      "outputs": []
    },
    {
      "cell_type": "markdown",
      "metadata": {
        "id": "MoJv6FqvOnqW",
        "colab_type": "text"
      },
      "source": [
        "Основные это num_topics, alpha, eta и passes. \n",
        "\n",
        "**num_topics** - это количество тем. Это основной параметр и настраивать его проще всего. Обычно 200 оптимальное значение. Можно поставить поменьше, если тексты не очень разнообразные или хочется уменьшить время обучения.\n",
        "\n",
        "**alpha** и **eta** - параметры, которые влияют на разреженность распределения документы-темы и темы-слова. У alpha есть значения \"asymmetric\" и \"auto\", которые можно попробовать (по умолчанию стоит \"symmetric\", т.е. не разреженное). Eta можно задать каким-то числом или самому сделать изначальное распределение слов по темам. НО настраивать эти параметры сложно и непонятно и вообще лучше надеяться, что по умолчанию все заработает.\n",
        "\n",
        "**passes** - задает количество проходов по данным. Чем больше, тем лучше сойдется модель, но обучаться будет дольше."
      ]
    },
    {
      "cell_type": "code",
      "metadata": {
        "id": "9ZT3L4EVOnqY",
        "colab_type": "code",
        "outputId": "fc386dc5-2457-4347-cb7f-40a86f8d1272",
        "colab": {
          "base_uri": "https://localhost:8080/",
          "height": 278
        }
      },
      "source": [
        "counts = [150,125,100,75,50]\n",
        "for count in counts:\n",
        "  print(count)\n",
        "  lda = gensim.models.LdaMulticore(corpus, count, id2word=dictinary, eval_every=0)\n",
        "  print(lda.log_perplexity(corpus[:10000]))\n",
        "  topics = []\n",
        "  for topic_id, topic in lda.show_topics(num_topics=count, formatted=False):\n",
        "    topic = [word for word, _ in topic]\n",
        "    topics.append(topic)\n",
        "  coherence_model_lda = gensim.models.CoherenceModel(topics=topics, \n",
        "                                                   texts=texts, \n",
        "                                                   dictionary=dictinary, coherence='c_v')\n",
        "  print(coherence_model_lda.get_coherence())"
      ],
      "execution_count": 0,
      "outputs": [
        {
          "output_type": "stream",
          "text": [
            "150\n",
            "-9.779373366338605\n",
            "0.3825049399750696\n",
            "125\n",
            "-9.50526207682655\n",
            "0.3588314128262319\n",
            "100\n",
            "-9.23573644528429\n",
            "0.37737336067229293\n",
            "75\n",
            "-8.958502582683906\n",
            "0.34460321779769243\n",
            "50\n",
            "-8.66988169067781\n",
            "0.36856903876263347\n"
          ],
          "name": "stdout"
        }
      ]
    },
    {
      "cell_type": "markdown",
      "metadata": {
        "id": "8OnSrCS0Onqg",
        "colab_type": "text"
      },
      "source": [
        "Посмотрим на топики."
      ]
    },
    {
      "cell_type": "code",
      "metadata": {
        "scrolled": true,
        "id": "LGrX4hydOnqi",
        "colab_type": "code",
        "colab": {}
      },
      "source": [
        "lda = gensim.models.LdaMulticore(corpus, 50, id2word=dictinary, eval_every=0) "
      ],
      "execution_count": 0,
      "outputs": []
    },
    {
      "cell_type": "code",
      "metadata": {
        "id": "3TJo3RC8yhPi",
        "colab_type": "code",
        "outputId": "2c29d208-697d-4001-fce5-bb52fe1ddce5",
        "colab": {
          "base_uri": "https://localhost:8080/",
          "height": 1000
        }
      },
      "source": [
        "lda.print_topics(num_topics=50)"
      ],
      "execution_count": 0,
      "outputs": [
        {
          "output_type": "execute_result",
          "data": {
            "text/plain": [
              "[(0,\n",
              "  '0.007*\"объект\" + 0.004*\"метод\" + 0.004*\"атрибут\" + 0.003*\"значение\" + 0.003*\"язык\" + 0.003*\"public\" + 0.003*\"вакансия\" + 0.003*\"класс\" + 0.003*\"свойство\" + 0.003*\"технология\"'),\n",
              " (1,\n",
              "  '0.005*\"in\" + 0.005*\"метод\" + 0.004*\"файл\" + 0.004*\"элемент\" + 0.004*\"windows\" + 0.004*\"result\" + 0.004*\"устройство\" + 0.003*\"return\" + 0.003*\"for\" + 0.003*\"значение\"'),\n",
              " (2,\n",
              "  '0.012*\"return\" + 0.009*\"function\" + 0.009*\"result\" + 0.006*\"файл\" + 0.005*\"сообщение\" + 0.004*\"for\" + 0.004*\"new\" + 0.004*\"let\" + 0.003*\"if\" + 0.003*\"страница\"'),\n",
              " (3,\n",
              "  '0.006*\"сайт\" + 0.005*\"сервер\" + 0.005*\"ссылка\" + 0.005*\"домен\" + 0.004*\"файл\" + 0.004*\"компонент\" + 0.003*\"модель\" + 0.003*\"рынок\" + 0.003*\"элемент\" + 0.003*\"сервис\"'),\n",
              " (4,\n",
              "  '0.006*\"return\" + 0.004*\"объект\" + 0.004*\"int\" + 0.003*\"технология\" + 0.003*\"проверка\" + 0.003*\"класс\" + 0.003*\"class\" + 0.003*\"атрибут\" + 0.003*\"студент\" + 0.003*\"result\"'),\n",
              " (5,\n",
              "  '0.013*\"return\" + 0.012*\"result\" + 0.006*\"файл\" + 0.006*\"function\" + 0.005*\"for\" + 0.005*\"let\" + 0.004*\"new\" + 0.004*\"if\" + 0.004*\"in\" + 0.004*\"объект\"'),\n",
              " (6,\n",
              "  '0.008*\"игра\" + 0.006*\"устройство\" + 0.006*\"windows\" + 0.004*\"файл\" + 0.004*\"вакансия\" + 0.003*\"игрок\" + 0.003*\"безопасность\" + 0.003*\"метод\" + 0.002*\"температура\" + 0.002*\"печать\"'),\n",
              " (7,\n",
              "  '0.006*\"устройство\" + 0.005*\"for\" + 0.004*\"result\" + 0.004*\"function\" + 0.004*\"return\" + 0.003*\"is\" + 0.003*\"to\" + 0.003*\"режим\" + 0.003*\"let\" + 0.003*\"if\"'),\n",
              " (8,\n",
              "  '0.009*\"компонент\" + 0.008*\"объект\" + 0.007*\"файл\" + 0.006*\"модуль\" + 0.005*\"элемент\" + 0.005*\"значение\" + 0.003*\"метод\" + 0.003*\"строка\" + 0.003*\"класс\" + 0.003*\"public\"'),\n",
              " (9,\n",
              "  '0.017*\"файл\" + 0.005*\"игра\" + 0.003*\"группа\" + 0.003*\"программа\" + 0.003*\"объект\" + 0.003*\"список\" + 0.003*\"компьютер\" + 0.003*\"устройство\" + 0.003*\"the\" + 0.002*\"язык\"'),\n",
              " (10,\n",
              "  '0.005*\"доступ\" + 0.004*\"сайт\" + 0.004*\"метод\" + 0.004*\"игра\" + 0.004*\"устройство\" + 0.004*\"программа\" + 0.003*\"китай\" + 0.003*\"result\" + 0.003*\"пароль\" + 0.003*\"файл\"'),\n",
              " (11,\n",
              "  '0.005*\"объект\" + 0.004*\"метод\" + 0.004*\"public\" + 0.004*\"мозг\" + 0.004*\"windows\" + 0.004*\"return\" + 0.003*\"файл\" + 0.003*\"null\" + 0.003*\"ключ\" + 0.003*\"массив\"'),\n",
              " (12,\n",
              "  '0.007*\"заказчик\" + 0.005*\"сайт\" + 0.004*\"result\" + 0.004*\"файл\" + 0.004*\"yahoo\" + 0.003*\"function\" + 0.003*\"return\" + 0.003*\"услуга\" + 0.003*\"запрос\" + 0.003*\"сервер\"'),\n",
              " (13,\n",
              "  '0.004*\"result\" + 0.004*\"сервер\" + 0.004*\"рабочий\" + 0.004*\"игра\" + 0.003*\"библиотека\" + 0.003*\"устройство\" + 0.003*\"цифровой\" + 0.003*\"клетка\" + 0.003*\"исследование\" + 0.003*\"параметр\"'),\n",
              " (14,\n",
              "  '0.005*\"файл\" + 0.005*\"return\" + 0.005*\"объект\" + 0.004*\"изображение\" + 0.003*\"стикер\" + 0.003*\"игра\" + 0.003*\"if\" + 0.003*\"поиск\" + 0.003*\"сайт\" + 0.003*\"клиент\"'),\n",
              " (15,\n",
              "  '0.013*\"массив\" + 0.005*\"репликация\" + 0.004*\"устройство\" + 0.004*\"сайт\" + 0.004*\"режим\" + 0.004*\"значение\" + 0.004*\"объект\" + 0.003*\"if\" + 0.003*\"область\" + 0.003*\"друг\"'),\n",
              " (16,\n",
              "  '0.015*\"услуга\" + 0.006*\"массив\" + 0.006*\"клиент\" + 0.005*\"кампания\" + 0.005*\"игра\" + 0.003*\"устройство\" + 0.003*\"поддерживать\" + 0.003*\"сайт\" + 0.003*\"режим\" + 0.003*\"программный\"'),\n",
              " (17,\n",
              "  '0.009*\"модуль\" + 0.008*\"браузер\" + 0.006*\"услуга\" + 0.004*\"файл\" + 0.004*\"формат\" + 0.004*\"устройство\" + 0.004*\"игра\" + 0.003*\"сайт\" + 0.003*\"спецификация\" + 0.003*\"мобильный\"'),\n",
              " (18,\n",
              "  '0.005*\"файл\" + 0.004*\"мозг\" + 0.004*\"игра\" + 0.003*\"база\" + 0.003*\"вакансия\" + 0.003*\"технология\" + 0.003*\"область\" + 0.003*\"запрос\" + 0.003*\"сервер\" + 0.003*\"сайт\"'),\n",
              " (19,\n",
              "  '0.017*\"игра\" + 0.004*\"in\" + 0.003*\"the\" + 0.002*\"модель\" + 0.002*\"играть\" + 0.002*\"карта\" + 0.002*\"условие\" + 0.002*\"игрок\" + 0.002*\"client\" + 0.002*\"программа\"'),\n",
              " (20,\n",
              "  '0.005*\"корея\" + 0.005*\"игра\" + 0.003*\"if\" + 0.003*\"файл\" + 0.003*\"сайт\" + 0.003*\"язык\" + 0.003*\"технология\" + 0.003*\"result\" + 0.003*\"интернет\" + 0.003*\"инструмент\"'),\n",
              " (21,\n",
              "  '0.017*\"result\" + 0.008*\"function\" + 0.008*\"игра\" + 0.007*\"for\" + 0.007*\"let\" + 0.006*\"return\" + 0.005*\"цикл\" + 0.004*\"игрок\" + 0.003*\"new\" + 0.003*\"lt\"'),\n",
              " (22,\n",
              "  '0.008*\"игра\" + 0.007*\"боль\" + 0.005*\"игрок\" + 0.003*\"документ\" + 0.003*\"файл\" + 0.003*\"сервис\" + 0.003*\"сайт\" + 0.003*\"мозг\" + 0.003*\"язык\" + 0.003*\"сервер\"'),\n",
              " (23,\n",
              "  '0.005*\"игра\" + 0.005*\"клиент\" + 0.005*\"int\" + 0.004*\"устройство\" + 0.004*\"студент\" + 0.004*\"модель\" + 0.004*\"файл\" + 0.004*\"ия\" + 0.003*\"программа\" + 0.003*\"значение\"'),\n",
              " (24,\n",
              "  '0.008*\"файл\" + 0.007*\"return\" + 0.004*\"заказчик\" + 0.004*\"result\" + 0.003*\"function\" + 0.003*\"public\" + 0.003*\"int\" + 0.003*\"класс\" + 0.003*\"for\" + 0.003*\"сервер\"'),\n",
              " (25,\n",
              "  '0.007*\"браузер\" + 0.005*\"файл\" + 0.004*\"if\" + 0.004*\"return\" + 0.003*\"int\" + 0.003*\"мобильный\" + 0.003*\"устройство\" + 0.002*\"класс\" + 0.002*\"the\" + 0.002*\"двигатель\"'),\n",
              " (26,\n",
              "  '0.006*\"google\" + 0.006*\"доступ\" + 0.005*\"игра\" + 0.005*\"интернет\" + 0.004*\"сервер\" + 0.004*\"публичный\" + 0.004*\"подключение\" + 0.004*\"внутренний\" + 0.003*\"услуга\" + 0.003*\"протокол\"'),\n",
              " (27,\n",
              "  '0.005*\"устройство\" + 0.004*\"раздел\" + 0.004*\"файл\" + 0.003*\"температура\" + 0.003*\"выбрать\" + 0.003*\"скорость\" + 0.003*\"режим\" + 0.003*\"сервер\" + 0.002*\"ключ\" + 0.002*\"действие\"'),\n",
              " (28,\n",
              "  '0.007*\"правило\" + 0.004*\"устройство\" + 0.003*\"игра\" + 0.003*\"событие\" + 0.003*\"услуга\" + 0.003*\"машина\" + 0.003*\"связь\" + 0.003*\"значение\" + 0.003*\"ошибка\" + 0.003*\"файл\"'),\n",
              " (29,\n",
              "  '0.006*\"игра\" + 0.003*\"сервис\" + 0.003*\"модель\" + 0.003*\"значение\" + 0.003*\"кампания\" + 0.003*\"устройство\" + 0.003*\"result\" + 0.003*\"игрок\" + 0.003*\"файл\" + 0.002*\"друг\"'),\n",
              " (30,\n",
              "  '0.005*\"сайт\" + 0.003*\"кампания\" + 0.003*\"сервер\" + 0.003*\"документ\" + 0.003*\"значение\" + 0.003*\"домен\" + 0.003*\"запрос\" + 0.003*\"файл\" + 0.003*\"ссылка\" + 0.003*\"вакансия\"'),\n",
              " (31,\n",
              "  '0.004*\"база\" + 0.004*\"устройство\" + 0.004*\"язык\" + 0.004*\"сервер\" + 0.004*\"файл\" + 0.004*\"in\" + 0.003*\"запрос\" + 0.003*\"технология\" + 0.003*\"название\" + 0.003*\"боль\"'),\n",
              " (32,\n",
              "  '0.005*\"public\" + 0.004*\"модель\" + 0.004*\"сервер\" + 0.004*\"объект\" + 0.004*\"if\" + 0.004*\"страна\" + 0.004*\"tesla\" + 0.003*\"батарея\" + 0.003*\"return\" + 0.003*\"технология\"'),\n",
              " (33,\n",
              "  '0.007*\"игра\" + 0.004*\"игрок\" + 0.004*\"значение\" + 0.003*\"мозг\" + 0.003*\"return\" + 0.003*\"объект\" + 0.003*\"температура\" + 0.003*\"запрос\" + 0.003*\"файл\" + 0.003*\"событие\"'),\n",
              " (34,\n",
              "  '0.005*\"up\" + 0.004*\"if\" + 0.004*\"устройство\" + 0.004*\"запрос\" + 0.003*\"игра\" + 0.003*\"for\" + 0.003*\"public\" + 0.003*\"файл\" + 0.003*\"return\" + 0.003*\"метод\"'),\n",
              " (35,\n",
              "  '0.010*\"result\" + 0.005*\"браузер\" + 0.005*\"return\" + 0.005*\"сайт\" + 0.004*\"let\" + 0.004*\"for\" + 0.004*\"нагрузка\" + 0.003*\"function\" + 0.003*\"файл\" + 0.003*\"устройство\"'),\n",
              " (36,\n",
              "  '0.005*\"массив\" + 0.004*\"in\" + 0.004*\"сервер\" + 0.003*\"java\" + 0.003*\"алгоритм\" + 0.003*\"объект\" + 0.003*\"условие\" + 0.003*\"изображение\" + 0.003*\"область\" + 0.003*\"файл\"'),\n",
              " (37,\n",
              "  '0.005*\"объект\" + 0.005*\"атрибут\" + 0.004*\"the\" + 0.004*\"свойство\" + 0.003*\"устройство\" + 0.003*\"null\" + 0.003*\"метод\" + 0.003*\"модель\" + 0.003*\"public\" + 0.003*\"значение\"'),\n",
              " (38,\n",
              "  '0.007*\"result\" + 0.004*\"дефект\" + 0.004*\"устройство\" + 0.003*\"twitter\" + 0.003*\"function\" + 0.003*\"if\" + 0.003*\"дом\" + 0.003*\"return\" + 0.003*\"доступ\" + 0.003*\"for\"'),\n",
              " (39,\n",
              "  '0.010*\"игра\" + 0.004*\"файл\" + 0.004*\"игрок\" + 0.003*\"датчик\" + 0.003*\"исследование\" + 0.003*\"объект\" + 0.003*\"двигатель\" + 0.003*\"видео\" + 0.002*\"правило\" + 0.002*\"result\"'),\n",
              " (40,\n",
              "  '0.005*\"модель\" + 0.004*\"инструмент\" + 0.003*\"доклад\" + 0.003*\"устройство\" + 0.003*\"сервер\" + 0.003*\"рассказать\" + 0.002*\"продукт\" + 0.002*\"цикл\" + 0.002*\"клиент\" + 0.002*\"the\"'),\n",
              " (41,\n",
              "  '0.007*\"сайт\" + 0.004*\"страница\" + 0.003*\"файл\" + 0.003*\"значение\" + 0.003*\"return\" + 0.003*\"result\" + 0.002*\"игра\" + 0.002*\"параметр\" + 0.002*\"объект\" + 0.002*\"клиент\"'),\n",
              " (42,\n",
              "  '0.006*\"рабочий\" + 0.005*\"устройство\" + 0.005*\"return\" + 0.005*\"файл\" + 0.004*\"цифровой\" + 0.004*\"function\" + 0.004*\"технология\" + 0.003*\"управление\" + 0.003*\"мобильный\" + 0.003*\"метод\"'),\n",
              " (43,\n",
              "  '0.007*\"файл\" + 0.004*\"значение\" + 0.004*\"объект\" + 0.004*\"игра\" + 0.004*\"сервер\" + 0.004*\"метод\" + 0.004*\"result\" + 0.003*\"робот\" + 0.003*\"машина\" + 0.003*\"программа\"'),\n",
              " (44,\n",
              "  '0.006*\"result\" + 0.004*\"файл\" + 0.004*\"function\" + 0.004*\"return\" + 0.003*\"температура\" + 0.003*\"сервер\" + 0.003*\"let\" + 0.003*\"устройство\" + 0.003*\"доступ\" + 0.003*\"значение\"'),\n",
              " (45,\n",
              "  '0.008*\"услуга\" + 0.005*\"массив\" + 0.004*\"игра\" + 0.004*\"программа\" + 0.004*\"клиент\" + 0.003*\"язык\" + 0.003*\"безопасность\" + 0.003*\"друг\" + 0.003*\"защита\" + 0.003*\"игрок\"'),\n",
              " (46,\n",
              "  '0.015*\"игра\" + 0.007*\"игрок\" + 0.003*\"public\" + 0.003*\"устройство\" + 0.003*\"return\" + 0.003*\"метод\" + 0.002*\"связь\" + 0.002*\"удача\" + 0.002*\"объект\" + 0.002*\"модель\"'),\n",
              " (47,\n",
              "  '0.005*\"public\" + 0.004*\"result\" + 0.004*\"объект\" + 0.003*\"new\" + 0.003*\"файл\" + 0.003*\"область\" + 0.003*\"return\" + 0.003*\"игра\" + 0.003*\"class\" + 0.003*\"база\"'),\n",
              " (48,\n",
              "  '0.004*\"модель\" + 0.004*\"сайт\" + 0.003*\"услуга\" + 0.003*\"устройство\" + 0.003*\"боль\" + 0.003*\"клиент\" + 0.003*\"технология\" + 0.003*\"сообщение\" + 0.003*\"сервер\" + 0.003*\"браузер\"'),\n",
              " (49,\n",
              "  '0.005*\"сообщение\" + 0.005*\"return\" + 0.004*\"using\" + 0.004*\"игра\" + 0.003*\"public\" + 0.003*\"модуль\" + 0.003*\"список\" + 0.003*\"запись\" + 0.003*\"java\" + 0.003*\"боль\"')]"
            ]
          },
          "metadata": {
            "tags": []
          },
          "execution_count": 40
        }
      ]
    },
    {
      "cell_type": "code",
      "metadata": {
        "id": "1b0a-U9FuKbc",
        "colab_type": "code",
        "outputId": "37fa554d-b47b-453d-d431-0a6b2fb5b66d",
        "colab": {
          "base_uri": "https://localhost:8080/",
          "height": 69
        }
      },
      "source": [
        "for i, topic in lda.print_topics(num_topics=50):\n",
        "  if i == 0 or i == 20 or i == 10:\n",
        "    print(i, topic)"
      ],
      "execution_count": 0,
      "outputs": [
        {
          "output_type": "stream",
          "text": [
            "0 0.007*\"объект\" + 0.004*\"метод\" + 0.004*\"атрибут\" + 0.003*\"значение\" + 0.003*\"язык\" + 0.003*\"public\" + 0.003*\"вакансия\" + 0.003*\"класс\" + 0.003*\"свойство\" + 0.003*\"технология\"\n",
            "10 0.005*\"доступ\" + 0.004*\"сайт\" + 0.004*\"метод\" + 0.004*\"игра\" + 0.004*\"устройство\" + 0.004*\"программа\" + 0.003*\"китай\" + 0.003*\"result\" + 0.003*\"пароль\" + 0.003*\"файл\"\n",
            "20 0.005*\"корея\" + 0.005*\"игра\" + 0.003*\"if\" + 0.003*\"файл\" + 0.003*\"сайт\" + 0.003*\"язык\" + 0.003*\"технология\" + 0.003*\"result\" + 0.003*\"интернет\" + 0.003*\"инструмент\"\n"
          ],
          "name": "stdout"
        }
      ]
    },
    {
      "cell_type": "markdown",
      "metadata": {
        "id": "9wSG07B5Onqu",
        "colab_type": "text"
      },
      "source": [
        "Ещё есть штука для визуализации."
      ]
    },
    {
      "cell_type": "code",
      "metadata": {
        "id": "yq0z6TpwOnqw",
        "colab_type": "code",
        "colab": {}
      },
      "source": [
        "pyLDAvis.enable_notebook()"
      ],
      "execution_count": 0,
      "outputs": []
    },
    {
      "cell_type": "code",
      "metadata": {
        "scrolled": false,
        "id": "-4kIIVnYOnq5",
        "colab_type": "code",
        "colab": {}
      },
      "source": [
        "pyLDAvis.gensim.prepare(lda, corpus, dictinary) # почему-то ячейка в колабе не отрабатывает :с"
      ],
      "execution_count": 0,
      "outputs": []
    },
    {
      "cell_type": "code",
      "metadata": {
        "id": "mVx3c9McvEt-",
        "colab_type": "code",
        "colab": {}
      },
      "source": [
        "tfidf = gensim.models.TfidfModel(corpus, id2word=dictinary)\n",
        "corpus = tfidf[corpus]"
      ],
      "execution_count": 0,
      "outputs": []
    },
    {
      "cell_type": "code",
      "metadata": {
        "id": "FCbeox4HvdHT",
        "colab_type": "code",
        "outputId": "3452b50e-9505-4708-ca66-c3dc0538e1a5",
        "colab": {
          "base_uri": "https://localhost:8080/",
          "height": 278
        }
      },
      "source": [
        "counts = [150,125,100,75,50]\n",
        "for count in counts:\n",
        "  print(count)\n",
        "  lda = gensim.models.LdaMulticore(corpus, count, id2word=dictinary, eval_every=0)\n",
        "  print(lda.log_perplexity(corpus[:10000]))\n",
        "  topics = []\n",
        "  for topic_id, topic in lda.show_topics(num_topics=count, formatted=False):\n",
        "    topic = [word for word, _ in topic]\n",
        "    topics.append(topic)\n",
        "  coherence_model_lda = gensim.models.CoherenceModel(topics=topics, \n",
        "                                                   texts=texts, \n",
        "                                                   dictionary=dictinary, coherence='c_v')\n",
        "  print(coherence_model_lda.get_coherence())"
      ],
      "execution_count": 0,
      "outputs": [
        {
          "output_type": "stream",
          "text": [
            "150\n",
            "-28.476810231412777\n",
            "0.40361505568855194\n",
            "125\n",
            "-26.081525937462004\n",
            "0.3901306863724088\n",
            "100\n",
            "-23.632931345297852\n",
            "0.3890918150749223\n",
            "75\n",
            "-20.78084341296905\n",
            "0.3778850007938987\n",
            "50\n",
            "-17.743723335765296\n",
            "0.3654599930389017\n"
          ],
          "name": "stdout"
        }
      ]
    },
    {
      "cell_type": "code",
      "metadata": {
        "id": "_6ASNn7QvmiC",
        "colab_type": "code",
        "outputId": "4af7d2f6-4a71-4261-9369-e336fb100fe3",
        "colab": {
          "base_uri": "https://localhost:8080/",
          "height": 885
        }
      },
      "source": [
        "lda = gensim.models.LdaMulticore(corpus, 50, id2word=dictinary, eval_every=0)\n",
        "for i, topic in lda.print_topics(num_topics=50):\n",
        "    print(i, topic)"
      ],
      "execution_count": 0,
      "outputs": [
        {
          "output_type": "stream",
          "text": [
            "0 0.012*\"java\" + 0.010*\"репликация\" + 0.009*\"игра\" + 0.008*\"sip\" + 0.006*\"ботнет\" + 0.005*\"meetup\" + 0.005*\"доклад\" + 0.005*\"субд\" + 0.005*\"шлюз\" + 0.005*\"обратный\"\n",
            "1 0.030*\"фсб\" + 0.011*\"admin\" + 0.009*\"russia\" + 0.009*\"поступить\" + 0.006*\"сын\" + 0.004*\"владимир\" + 0.004*\"doom\" + 0.004*\"take\" + 0.004*\"net\" + 0.003*\"извлечение\"\n",
            "2 0.021*\"yahoo\" + 0.020*\"клетка\" + 0.009*\"ген\" + 0.008*\"age\" + 0.007*\"белка\" + 0.006*\"взлом\" + 0.005*\"post\" + 0.004*\"ткань\" + 0.004*\"name\" + 0.004*\"учётный\"\n",
            "3 0.017*\"output\" + 0.012*\"less\" + 0.009*\"high\" + 0.006*\"варьироваться\" + 0.006*\"low\" + 0.006*\"фокусироваться\" + 0.005*\"счётчик\" + 0.005*\"int\" + 0.004*\"input\" + 0.004*\"усилитель\"\n",
            "4 0.010*\"public\" + 0.009*\"function\" + 0.008*\"return\" + 0.008*\"class\" + 0.007*\"result\" + 0.006*\"token\" + 0.005*\"while\" + 0.005*\"файл\" + 0.005*\"err\" + 0.004*\"use\"\n",
            "5 0.007*\"раздел\" + 0.006*\"аккумулятор\" + 0.006*\"загрузчик\" + 0.006*\"фоновый\" + 0.005*\"загадка\" + 0.005*\"батарея\" + 0.004*\"модуль\" + 0.004*\"загрузка\" + 0.004*\"сопротивление\" + 0.004*\"вычислительный\"\n",
            "6 0.006*\"фонд\" + 0.006*\"хостинг-провайдер\" + 0.003*\"коммерция\" + 0.003*\"хостинг\" + 0.003*\"капитал\" + 0.003*\"повествование\" + 0.002*\"management\" + 0.002*\"бесперебойный\" + 0.002*\"90-ха\" + 0.002*\"оборот\"\n",
            "7 0.009*\"вакансия\" + 0.008*\"java\" + 0.007*\"вносить\" + 0.006*\"привязка\" + 0.005*\"обёртка\" + 0.004*\"processor\" + 0.004*\"кодировка\" + 0.004*\"uri\" + 0.004*\"properties\" + 0.004*\"преобразование\"\n",
            "8 0.023*\"ex\" + 0.004*\"регулятор\" + 0.003*\"byte\" + 0.002*\"because\" + 0.002*\"пометка\" + 0.002*\"if\" + 0.002*\"качественный\" + 0.002*\"изготовить\" + 0.002*\"уникальный\" + 0.002*\"ток\"\n",
            "9 0.010*\"заказчик\" + 0.008*\"коннектор\" + 0.005*\"dom\" + 0.005*\"пиксель\" + 0.005*\"процессор\" + 0.005*\"request\" + 0.004*\"пароль\" + 0.004*\"зарядка\" + 0.004*\"деление\" + 0.004*\"снимок\"\n",
            "10 0.015*\"cookie\" + 0.010*\"mi\" + 0.007*\"печать\" + 0.006*\"xiaomi\" + 0.004*\"хостинг\" + 0.004*\"комната\" + 0.004*\"дорабатывать\" + 0.003*\"предоставление\" + 0.003*\"гостев\" + 0.003*\"температура\"\n",
            "11 0.017*\"подборка\" + 0.015*\"слайд\" + 0.012*\"датчик\" + 0.010*\"утечка\" + 0.010*\"веб-сервер\" + 0.010*\"разворачиваться\" + 0.008*\"почтовый\" + 0.007*\"иллюстрация\" + 0.006*\"шифрование\" + 0.006*\"lts\"\n",
            "12 0.012*\"users\" + 0.007*\"видеонаблюдение\" + 0.006*\"foo\" + 0.006*\"bar\" + 0.004*\"модель\" + 0.004*\"middleware\" + 0.004*\"apache\" + 0.003*\"промежуточный\" + 0.003*\"выборка\" + 0.003*\"публичный\"\n",
            "13 0.006*\"токен\" + 0.006*\"agile\" + 0.005*\"вконтакте\" + 0.004*\"гипотеза\" + 0.004*\"цикл\" + 0.004*\"copyright\" + 0.004*\"помещение\" + 0.004*\"методика\" + 0.004*\"типизация\" + 0.004*\"февраль\"\n",
            "14 0.011*\"дефект\" + 0.008*\"кампания\" + 0.006*\"нативный\" + 0.006*\"valve\" + 0.006*\"mail.ru\" + 0.006*\"ставка\" + 0.006*\"студент\" + 0.005*\"yes\" + 0.005*\"срабатывание\" + 0.004*\"конвертер\"\n",
            "15 0.026*\"стикер\" + 0.007*\"шарик\" + 0.005*\"визуальный\" + 0.005*\"template\" + 0.004*\"объект\" + 0.003*\"галочка\" + 0.003*\"шаблон\" + 0.002*\"видеоигра\" + 0.002*\"компонент\" + 0.002*\"утверждение\"\n",
            "16 0.006*\"windows\" + 0.004*\"игра\" + 0.004*\"прибор\" + 0.003*\"кнут\" + 0.003*\"двигатель\" + 0.003*\"временный\" + 0.003*\"system\" + 0.003*\"файл\" + 0.003*\"тестировщик\" + 0.003*\"using\"\n",
            "17 0.018*\"foreach\" + 0.012*\"попадание\" + 0.008*\"перемещение\" + 0.006*\"pascal\" + 0.006*\"корейский\" + 0.005*\"timestamp\" + 0.005*\"ru\" + 0.004*\"resolve\" + 0.003*\"посчитать\" + 0.003*\"семантика\"\n",
            "18 0.012*\"отметка\" + 0.011*\"модуль\" + 0.005*\"манифест\" + 0.005*\"числовой\" + 0.004*\"экзамен\" + 0.004*\"color\" + 0.004*\"браузер\" + 0.004*\"лабораторный\" + 0.003*\"babel\" + 0.003*\"es6\"\n",
            "19 0.007*\"firebase\" + 0.007*\"библиотека\" + 0.004*\"android\" + 0.004*\"azure\" + 0.004*\"mvp\" + 0.004*\"файл\" + 0.004*\"file\" + 0.003*\"мобильный\" + 0.003*\"игра\" + 0.003*\"флешек\"\n",
            "20 0.012*\"конвертация\" + 0.011*\"координата\" + 0.007*\"даджет\" + 0.006*\"крис\" + 0.006*\"доска\" + 0.006*\"двигатель\" + 0.006*\"блогер\" + 0.005*\"обзор\" + 0.005*\"отрисовка\" + 0.005*\"асинхронный\"\n",
            "21 0.010*\"собака\" + 0.010*\"param\" + 0.009*\"яркость\" + 0.006*\"detected\" + 0.005*\"чувствительность\" + 0.005*\"съёмка\" + 0.004*\"наушник\" + 0.004*\"относительный\" + 0.004*\"крепление\" + 0.003*\"сопоставление\"\n",
            "22 0.016*\"китай\" + 0.012*\"ёмкость\" + 0.011*\"китайский\" + 0.009*\"датчик\" + 0.008*\"home\" + 0.007*\"constraint\" + 0.006*\"провод\" + 0.005*\"primary\" + 0.005*\"table\" + 0.004*\"smart\"\n",
            "23 0.007*\"браузерный\" + 0.003*\"квадратный\" + 0.002*\"токен\" + 0.002*\"коррекция\" + 0.002*\"игра\" + 0.001*\"color\" + 0.001*\"int\" + 0.001*\"lego\" + 0.001*\"доклад\" + 0.001*\"значение\"\n",
            "24 0.010*\"контекст\" + 0.009*\"let\" + 0.009*\"client\" + 0.008*\"the\" + 0.005*\"request\" + 0.005*\"in\" + 0.005*\"by\" + 0.005*\"инсталляция\" + 0.004*\"messages\" + 0.004*\"you\"\n",
            "25 0.012*\"корея\" + 0.011*\"студент\" + 0.008*\"южный\" + 0.008*\"прямоугольник\" + 0.008*\"квеста\" + 0.006*\"vpn\" + 0.005*\"авто\" + 0.004*\"воздух\" + 0.004*\"диаметр\" + 0.004*\"ключ\"\n",
            "26 0.020*\"головка\" + 0.012*\"firewall\" + 0.010*\"пообщаться\" + 0.008*\"надёжность\" + 0.007*\"февраль\" + 0.007*\"виртуальный\" + 0.006*\"бар\" + 0.006*\"доклад\" + 0.005*\"заявка\" + 0.005*\"конденсатор\"\n",
            "27 0.010*\"массив\" + 0.007*\"атрибут\" + 0.005*\"more\" + 0.005*\"динамический\" + 0.005*\"пароль\" + 0.004*\"no\" + 0.004*\"подкаста\" + 0.004*\"цифровой\" + 0.004*\"вкладка\" + 0.004*\"рабочий\"\n",
            "28 0.016*\"температура\" + 0.008*\"select\" + 0.007*\"where\" + 0.007*\"тепло\" + 0.006*\"foo\" + 0.005*\"def\" + 0.005*\"state\" + 0.004*\"if\" + 0.004*\"sql\" + 0.004*\"in\"\n",
            "29 0.013*\"электроника\" + 0.009*\"публичный\" + 0.008*\"кожа\" + 0.006*\"xamarin\" + 0.006*\"резистор\" + 0.006*\"админ\" + 0.005*\"усилитель\" + 0.004*\"микросхема\" + 0.004*\"yahoo\" + 0.003*\"администратор\"\n",
            "30 0.015*\"усилитель\" + 0.014*\"who\" + 0.009*\"реле\" + 0.007*\"контейнер\" + 0.007*\"chrome\" + 0.007*\"инвестиционный\" + 0.006*\"таймер\" + 0.006*\"заказчик\" + 0.006*\"cs\" + 0.005*\"ит\"\n",
            "31 0.009*\"args\" + 0.008*\"прибор\" + 0.007*\"статус\" + 0.006*\"иванов\" + 0.006*\"помещение\" + 0.006*\"вакансия\" + 0.006*\"ast\" + 0.005*\"import\" + 0.004*\"amp\" + 0.004*\"trello\"\n",
            "32 0.017*\"боль\" + 0.008*\"at\" + 0.008*\"англ\" + 0.007*\"import\" + 0.006*\"изображение\" + 0.005*\"алгоритм\" + 0.005*\"applications\" + 0.005*\"выделение\" + 0.005*\"диапазон\" + 0.004*\"цвет\"\n",
            "33 0.015*\"tesla\" + 0.014*\"laravel\" + 0.008*\"контейнер\" + 0.007*\"сброс\" + 0.007*\"перенести\" + 0.007*\"советский\" + 0.006*\"файл\" + 0.006*\"перенос\" + 0.005*\"clone\" + 0.005*\"model\"\n",
            "34 0.009*\"messages\" + 0.008*\"веб\" + 0.006*\"корейский\" + 0.006*\"one\" + 0.006*\"контент\" + 0.004*\"корея\" + 0.004*\"offset\" + 0.004*\"your\" + 0.003*\"браузер\" + 0.003*\"slack\"\n",
            "35 0.007*\"браузер\" + 0.004*\"робот\" + 0.004*\"доклад\" + 0.004*\"кабель\" + 0.003*\"define\" + 0.003*\"двигатель\" + 0.003*\"игра\" + 0.003*\"microsoft\" + 0.003*\"кэш\" + 0.003*\"провайдер\"\n",
            "36 0.007*\"мозг\" + 0.007*\"игрок\" + 0.006*\"ия\" + 0.006*\"игра\" + 0.005*\"twitter\" + 0.005*\"сообщение\" + 0.004*\"бот\" + 0.004*\"пилот\" + 0.004*\"долг\" + 0.003*\"прям\"\n",
            "37 0.010*\"зашифровать\" + 0.008*\"connection\" + 0.005*\"new\" + 0.005*\"public\" + 0.005*\"var\" + 0.005*\"post\" + 0.005*\"desc\" + 0.004*\"string\" + 0.003*\"issues\" + 0.003*\"void\"\n",
            "38 0.012*\"гибкость\" + 0.009*\"dpi\" + 0.007*\"вакансия\" + 0.005*\"итерация\" + 0.005*\"поездка\" + 0.005*\"вовлечение\" + 0.004*\"scrum\" + 0.004*\"приносить\" + 0.004*\"трафик\" + 0.004*\"рабочий\"\n",
            "39 0.021*\"iaas\" + 0.010*\"than\" + 0.007*\"show\" + 0.005*\"less\" + 0.005*\"граф\" + 0.004*\"device\" + 0.004*\"cli\" + 0.004*\"case\" + 0.003*\"saas\" + 0.003*\"sql\"\n",
            "40 0.017*\"олимпиада\" + 0.013*\"cluster\" + 0.013*\"uber\" + 0.009*\"компонент\" + 0.009*\"домен\" + 0.007*\"тег\" + 0.007*\"online\" + 0.005*\"dc\" + 0.005*\"resources\" + 0.004*\"мыть\"\n",
            "41 0.016*\"amount\" + 0.015*\"поезд\" + 0.011*\"опрос\" + 0.006*\"быстренько\" + 0.005*\"strings\" + 0.005*\"обёртка\" + 0.004*\"req\" + 0.004*\"technologies\" + 0.004*\"undefined\" + 0.003*\"дорога\"\n",
            "42 0.013*\"critical\" + 0.013*\"стиль\" + 0.012*\"согласование\" + 0.009*\"кэширование\" + 0.007*\"context\" + 0.006*\"исполнитель\" + 0.006*\"css\" + 0.006*\"документ\" + 0.006*\"дисциплина\" + 0.005*\"видимый\"\n",
            "43 0.009*\"домен\" + 0.008*\"переадресация\" + 0.008*\"mac-адрес\" + 0.007*\"сериализация\" + 0.006*\"помещать\" + 0.005*\"force\" + 0.005*\"ip-адрес\" + 0.005*\"tcp\" + 0.005*\"last\" + 0.004*\"коммутация\"\n",
            "44 0.007*\"партнерский\" + 0.006*\"перевод\" + 0.005*\"изделие\" + 0.004*\"продукт\" + 0.004*\"печать\" + 0.003*\"рекорд\" + 0.003*\"jan\" + 0.003*\"сопротивление\" + 0.003*\"язык\" + 0.003*\"ракета-носитель\"\n",
            "45 0.008*\"релиз\" + 0.007*\"спецификация\" + 0.007*\"ребёнок\" + 0.006*\"отлаживать\" + 0.006*\"nodejs\" + 0.006*\"игра\" + 0.004*\"файл\" + 0.004*\"тёмный\" + 0.004*\"родитель\" + 0.003*\"освобождение\"\n",
            "46 0.014*\"регулирование\" + 0.010*\"business\" + 0.009*\"express\" + 0.009*\"никита\" + 0.007*\"силовой\" + 0.007*\"фреймворок\" + 0.006*\"glass\" + 0.005*\"обязательный\" + 0.004*\"механик\" + 0.004*\"крепиться\"\n",
            "47 0.012*\"услуга\" + 0.007*\"инцидент\" + 0.006*\"безопасность\" + 0.004*\"вредоносный\" + 0.004*\"доступ\" + 0.003*\"клиент\" + 0.003*\"организация\" + 0.003*\"информационный\" + 0.003*\"защита\" + 0.003*\"мессенджер\"\n",
            "48 0.002*\"docs\" + 0.002*\"накопление\" + 0.002*\"доклад\" + 0.002*\"оператор\" + 0.001*\"устройство\" + 0.001*\"light\" + 0.001*\"lg\" + 0.001*\"часы\" + 0.001*\"длина\" + 0.001*\"удалённый\"\n",
            "49 0.013*\"бизнес-логика\" + 0.011*\"vpn\" + 0.009*\"order\" + 0.006*\"vps\" + 0.005*\"expression\" + 0.005*\"хостинг\" + 0.004*\"больница\" + 0.003*\"level\" + 0.003*\"некуда\" + 0.003*\"instead\"\n"
          ],
          "name": "stdout"
        }
      ]
    },
    {
      "cell_type": "markdown",
      "metadata": {
        "id": "wphFk1t-wUQ0",
        "colab_type": "text"
      },
      "source": [
        "У модели либо резко снижается перплексия, но немного растет когерентность, либо перплексия начинает быстро идти к 0, но и когерентность падает. Таким образом модель с использованием тфидф ведет себя хуже прошлого варианта.  \n",
        "Касаемо тем:\n",
        "- интересно отметить, что в первом случае первые (самые важные) слова темы повторялись среди разных тем, во втором же такого не происходит\n",
        "- тема, связаная с кореей, изменилась с игр на общие слова\n",
        "- пропала тема, связанная с объектами и методами (тема 0 из первого случая)\n",
        "\n"
      ]
    },
    {
      "cell_type": "code",
      "metadata": {
        "id": "lDBkc90XxS0w",
        "colab_type": "code",
        "outputId": "f39e7a14-1179-431f-bdb1-23ab419f2911",
        "colab": {
          "base_uri": "https://localhost:8080/",
          "height": 243
        }
      },
      "source": [
        "from sklearn.decomposition import NMF\n",
        "from sklearn.feature_extraction.text import CountVectorizer, TfidfVectorizer\n",
        "import pandas as pd\n",
        "stexts = [' '.join(text) for text in texts]\n",
        "vects = [\n",
        "         TfidfVectorizer(max_features=250, min_df=10, max_df=0.3, ngram_range=(1,3)),\n",
        "         TfidfVectorizer(max_features=500, min_df=10, max_df=0.3, ngram_range=(1,3)),\n",
        "         TfidfVectorizer(max_features=750, min_df=10, max_df=0.3, ngram_range=(1,3)),\n",
        "         TfidfVectorizer(max_features=1000, min_df=10, max_df=0.3, ngram_range=(1,3)),\n",
        "         TfidfVectorizer(max_features=1250, min_df=10, max_df=0.3, ngram_range=(1,3)),\n",
        "         TfidfVectorizer(max_features=1500, min_df=10, max_df=0.3, ngram_range=(1,3)),\n",
        "         TfidfVectorizer(max_features=1750, min_df=10, max_df=0.3, ngram_range=(1,3)),\n",
        "         TfidfVectorizer(max_features=1000, min_df=2, max_df=0.3, ngram_range=(1,3)),\n",
        "         TfidfVectorizer(max_features=1000, min_df=5, max_df=0.3, ngram_range=(1,3)),\n",
        "         TfidfVectorizer(max_features=1000, min_df=7, max_df=0.3, ngram_range=(1,3)),\n",
        "         TfidfVectorizer(max_features=1000, min_df=12, max_df=0.3, ngram_range=(1,3)),\n",
        "         TfidfVectorizer(max_features=1000, min_df=10, max_df=0.2, ngram_range=(1,3)),\n",
        "         TfidfVectorizer(max_features=1000, min_df=10, max_df=0.4, ngram_range=(1,3)),\n",
        "]\n",
        "for vectorizer in vects:\n",
        "  X = vectorizer.fit_transform(stexts)\n",
        "  model = NMF(n_components=30)\n",
        "  model.fit(X)\n",
        "  model.transform(X)\n",
        "  print(model.reconstruction_err_)"
      ],
      "execution_count": 0,
      "outputs": [
        {
          "output_type": "stream",
          "text": [
            "48.97069275370468\n",
            "52.44436495965947\n",
            "54.129877449600066\n",
            "55.13373024992506\n",
            "55.74797367894692\n",
            "56.30368112079559\n",
            "56.669267340816084\n",
            "55.14010508838048\n",
            "55.10521492972835\n",
            "55.09997844352421\n",
            "55.12812250852275\n",
            "55.822458908541506\n",
            "54.717153366581634\n"
          ],
          "name": "stdout"
        }
      ]
    },
    {
      "cell_type": "code",
      "metadata": {
        "id": "en870HT8Ontd",
        "colab_type": "code",
        "colab": {}
      },
      "source": [
        "vectorizer = TfidfVectorizer(max_features=250, min_df=10, max_df=0.3, ngram_range=(1,3))\n",
        "X = vectorizer.fit_transform(stexts)\n",
        "model = NMF(n_components=30)\n",
        "model.fit(X)\n",
        "model.transform(X)\n",
        "pd.set_option('display.max_columns', 100)\n",
        "pd.set_option('display.max_rows', 100)"
      ],
      "execution_count": 0,
      "outputs": []
    },
    {
      "cell_type": "code",
      "metadata": {
        "id": "hl34eHRqOntm",
        "colab_type": "code",
        "colab": {}
      },
      "source": [
        "feat_names = vectorizer.get_feature_names()"
      ],
      "execution_count": 0,
      "outputs": []
    },
    {
      "cell_type": "code",
      "metadata": {
        "scrolled": true,
        "id": "Api0Rvr4Ontw",
        "colab_type": "code",
        "outputId": "96616f95-33ca-473b-a38b-005417daa3d4",
        "colab": {
          "base_uri": "https://localhost:8080/",
          "height": 538
        }
      },
      "source": [
        "top_words = model.components_.argsort()[:,:-5:-1]\n",
        "\n",
        "for i in range(top_words.shape[0]):\n",
        "    words = [feat_names[j] for j in top_words[i]]\n",
        "    print(i, \"  \".join(words))"
      ],
      "execution_count": 0,
      "outputs": [
        {
          "output_type": "stream",
          "text": [
            "0 друг  какой то  жизнь  что то\n",
            "1 запрос  база  таблица  api\n",
            "2 игра  игрок  мир  мобильный\n",
            "3 сервер  настройка  центр  база\n",
            "4 устройство  мобильный  режим  кнопка\n",
            "5 the  to  of  and\n",
            "6 public  void  new  string\n",
            "7 язык  программирование  библиотека  обучение\n",
            "8 сайт  страница  адрес  ресурс\n",
            "9 сеть  интернет  связь  доступ\n",
            "10 файл  строка  настройка  пакет\n",
            "11 if  int  return  lt\n",
            "12 модель  цена  рынок  размер\n",
            "13 google  api  мобильный  рынок\n",
            "14 технология  мир  материал  развитие\n",
            "15 тест  тестирование  end  библиотека\n",
            "16 windows  программа  компьютер  безопасность\n",
            "17 элемент  блок  компонент  значение\n",
            "18 виртуальный  машина  диск  управление\n",
            "19 сигнал  связь  канал  скорость\n",
            "20 сервис  сообщение  api  платформа\n",
            "21 клиент  бизнес  интерфейс  вызов\n",
            "22 объект  метод  значение  класс\n",
            "23 продукт  рынок  мобильный  инструмент\n",
            "24 видео  карта  изображение  экран\n",
            "25 var  function  return  new\n",
            "26 исследование  анализ  группа  метод\n",
            "27 ключ  безопасность  открытый  доступ\n",
            "28 сотрудник  бизнес  деньга  рабочий\n",
            "29 память  процессор  ядро  диск\n"
          ],
          "name": "stdout"
        }
      ]
    },
    {
      "cell_type": "markdown",
      "metadata": {
        "id": "YGgYJX-J6mE3",
        "colab_type": "text"
      },
      "source": [
        "Полученные темы почти не имеют повторяющихся слов в отличие от прошлых; при этом тема про объекты и методы была получена, как и в первом случае, но не появилась тема про корею. Впрочем, полученные темы больше похоже именно на темы, а не на краткую выжимку статей, как часто получалось в прошлых случаях:\n",
        "- '0.009*\"модуль\" + 0.008*\"браузер\" + 0.006*\"услуга\" + 0.004*\"файл\" + 0.004*\"формат\" + 0.004*\"устройство\" + 0.004*\"игра\" + 0.003*\"сайт\" + 0.003*\"спецификация\" + 0.003*\"мобильный\"'\n",
        "- 0.018*\"foreach\" + 0.012*\"попадание\" + 0.008*\"перемещение\" + 0.006*\"pascal\" + 0.006*\"корейский\" + 0.005*\"timestamp\" + 0.005*\"ru\" + 0.004*\"resolve\" + 0.003*\"посчитать\" + 0.003*\"семантика\"  \n",
        "vs.\n",
        "- память  процессор  ядро  диск\n",
        "- продукт  рынок  мобильный  инструмент"
      ]
    }
  ]
}