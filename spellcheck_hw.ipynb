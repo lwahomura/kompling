{
 "cells": [
  {
   "cell_type": "code",
   "execution_count": 4,
   "metadata": {},
   "outputs": [],
   "source": [
    "import re\n",
    "from nltk import sent_tokenize\n",
    "from string import punctuation\n",
    "from collections import Counter\n",
    "punctuation += \"«»—…“”\"\n",
    "punct = set(punctuation)"
   ]
  },
  {
   "cell_type": "code",
   "execution_count": 5,
   "metadata": {},
   "outputs": [],
   "source": [
    "bad = open('sents_with_mistakes.txt', encoding='utf8').read().splitlines()\n",
    "true = open('correct_sents.txt', encoding='utf8').read().splitlines()\n",
    "\n",
    "def align_words(sent_1, sent_2):\n",
    "    tokens_1 = sent_1.lower().split()\n",
    "    tokens_2 = sent_2.lower().split()\n",
    "    \n",
    "    tokens_1 = [re.sub('(^\\W+|\\W+$)', '', token) for token in tokens_1 if (set(token)-punct)]\n",
    "    tokens_2 = [re.sub('(^\\W+|\\W+$)', '', token) for token in tokens_2 if (set(token)-punct)]\n",
    "    \n",
    "    return list(zip(tokens_1, tokens_2))\n",
    "\n",
    "mistakes = []\n",
    "total = 0\n",
    "for i in range(len(true)):\n",
    "    word_pairs = align_words(true[i], bad[i])\n",
    "    for pair in word_pairs:\n",
    "        if pair[0] != pair[1]:\n",
    "            mistakes.append(pair)\n",
    "        total += 1"
   ]
  },
  {
   "cell_type": "code",
   "execution_count": 6,
   "metadata": {},
   "outputs": [],
   "source": [
    "# import gzip, csv\n",
    "# corpus = open('corpus_20000.txt', 'w')\n",
    "# with gzip.open('lenta-ru-news.csv.gz', 'rt') as archive:\n",
    "#     reader = csv.reader(archive, delimiter=',', quotechar='\"')\n",
    "#     for i, line in enumerate(reader):\n",
    "#         if i < 20000: # увеличьте количество текстов тут\n",
    "#             corpus.write(line[2].replace('\\xa0', ' ') + '\\n')"
   ]
  },
  {
   "cell_type": "code",
   "execution_count": 7,
   "metadata": {},
   "outputs": [],
   "source": [
    "def normalize(text):\n",
    "    \n",
    "    normalized_text = [(word.strip(punctuation)) for word \\\n",
    "                                                            in text.lower().split()]\n",
    "    normalized_text = [word for word in normalized_text if word]\n",
    "    return normalized_text\n",
    "\n",
    "corpus = []\n",
    "for text in open('corpus_20000.txt').read().splitlines():\n",
    "    sents = sent_tokenize(text)\n",
    "    norm_sents = [normalize(sent) for sent in sents]\n",
    "    corpus += norm_sents\n",
    "    \n",
    "vocab = set()\n",
    "\n",
    "for sent in corpus:\n",
    "    vocab.update(sent)\n",
    "    \n",
    "def predict_mistaken(word, vocab):\n",
    "    if word in vocab:\n",
    "        return 0\n",
    "    else:\n",
    "        return 1"
   ]
  },
  {
   "cell_type": "code",
   "execution_count": 8,
   "metadata": {},
   "outputs": [],
   "source": [
    "WORDS = Counter()\n",
    "for sent in corpus:\n",
    "    WORDS.update(sent)\n",
    "    \n",
    "N = sum(WORDS.values())\n",
    "def P(word, N=N):\n",
    "    return WORDS[word] / N"
   ]
  },
  {
   "cell_type": "code",
   "execution_count": 15,
   "metadata": {},
   "outputs": [],
   "source": [
    "class Deletions:\n",
    "    def __init__(self):\n",
    "        self.deletions = {}\n",
    "        self.known = []\n",
    "\n",
    "    def add_deletion(self, cut, origin):\n",
    "        origins = self.deletions.get(cut, [])\n",
    "        if origin not in origins:\n",
    "            origins.append(origin)\n",
    "        self.deletions[cut] = origins\n",
    "\n",
    "    def get_origin(self, cut):\n",
    "        origins = self.deletions.get(cut, [])\n",
    "        return origins\n",
    "\n",
    "    def cut(self, origins):\n",
    "        cuts = []\n",
    "        for word in origins:\n",
    "            for i in range(len(word)):\n",
    "                cut = word[:i] + word[i+1:]\n",
    "                cuts.append(cut)\n",
    "        return cuts\n",
    "\n",
    "    def create_deletions(self, origin, n = 1):\n",
    "        if origin not in self.known:\n",
    "            self.known.append(origin)\n",
    "        cuts = [origin]\n",
    "        while n > 0:\n",
    "            n -= 1\n",
    "            cuts = self.cut(cuts)\n",
    "            for cut in cuts:\n",
    "                self.add_deletion(cut, origin)\n",
    "\n",
    "    def find_origin(self, word, n = 1):\n",
    "        if word in self.known:\n",
    "            return [word]\n",
    "        all_cuts = [word]\n",
    "        cuts = [word]\n",
    "        while n > 0:\n",
    "            n -= 1\n",
    "            cuts = self.cut(cuts)\n",
    "            for cut in cuts:\n",
    "                if cut not in all_cuts:\n",
    "                    all_cuts.append(cut)\n",
    "        all_origins = []\n",
    "        for cut in all_cuts:\n",
    "            origins = self.get_origin(cut)\n",
    "            for origin in origins:\n",
    "                if origin not in all_origins:\n",
    "                    all_origins.append(origin)\n",
    "        if len(all_origins) == 0:\n",
    "            return [word]\n",
    "        return all_origins\n",
    "    "
   ]
  },
  {
   "cell_type": "code",
   "execution_count": 16,
   "metadata": {},
   "outputs": [],
   "source": [
    "d = Deletions()\n",
    "for word in WORDS:\n",
    "    d.create_deletions(word.lower())"
   ]
  },
  {
   "cell_type": "code",
   "execution_count": 17,
   "metadata": {},
   "outputs": [],
   "source": [
    "def correction(word):\n",
    "    origins = d.find_origin(word)\n",
    "    return max(origins, key=P)"
   ]
  },
  {
   "cell_type": "code",
   "execution_count": 175,
   "metadata": {},
   "outputs": [
    {
     "name": "stdout",
     "output_type": "stream",
     "text": [
      "0\n",
      "100\n",
      "200\n",
      "300\n",
      "400\n",
      "500\n",
      "600\n",
      "700\n",
      "800\n",
      "900\n",
      "0.7273726273726274\n",
      "0.3622409823484267\n",
      "0.21798552888480532\n"
     ]
    }
   ],
   "source": [
    "correct = 0\n",
    "total = 0\n",
    "\n",
    "total_mistaken = 0\n",
    "mistaken_fixed = 0\n",
    "\n",
    "total_correct = 0\n",
    "correct_broken = 0\n",
    "\n",
    "cashed = {}\n",
    "for i in range(len(true)):\n",
    "    word_pairs = align_words(true[i], bad[i])\n",
    "    for pair in word_pairs:\n",
    "        pair = (pair[0].lower(), pair[1].lower())\n",
    "        predicted = cashed.get(pair[1], correction(pair[1]))\n",
    "        cashed[pair[0]] = predicted\n",
    "        if predicted == pair[0]:\n",
    "            correct += 1\n",
    "        total += 1\n",
    "        \n",
    "        if pair[0] == pair[1]:\n",
    "            total_correct += 1\n",
    "            if pair[0] !=  predicted:\n",
    "                correct_broken += 1\n",
    "        else:\n",
    "            total_mistaken += 1\n",
    "            if pair[0] == predicted:\n",
    "                mistaken_fixed += 1\n",
    "        \n",
    "    if not i % 100:\n",
    "        print(i)\n",
    "        \n",
    "print(correct/total)\n",
    "print(mistaken_fixed/total_mistaken)\n",
    "print(correct_broken/total_correct)"
   ]
  },
  {
   "cell_type": "markdown",
   "metadata": {},
   "source": [
    "Как мы видим, качество оставляет желать лучшего - по всем 3 критериям проигрываем алгоритму Норвига, однако он гораздо быстрее"
   ]
  },
  {
   "cell_type": "code",
   "execution_count": 12,
   "metadata": {},
   "outputs": [],
   "source": [
    "tokens = []\n",
    "for text in corpus:\n",
    "    tokens.extend(text)"
   ]
  },
  {
   "cell_type": "code",
   "execution_count": 13,
   "metadata": {},
   "outputs": [],
   "source": [
    "def ngrammer(tokens, n):\n",
    "    ngrams = []\n",
    "    for i in range(0,len(tokens)-n+1):\n",
    "        ngrams.append(' '.join(tokens[i:i+n]))\n",
    "    return ngrams\n",
    "\n",
    "unigrams = Counter()\n",
    "bigrams = Counter()\n",
    "trigrams = Counter()\n",
    "for t in tokens:\n",
    "    unigrams.update(t)\n",
    "    bigrams.update(ngrammer(t, 2))\n",
    "    trigrams.update(ngrammer(t, 3))"
   ]
  },
  {
   "cell_type": "code",
   "execution_count": 27,
   "metadata": {},
   "outputs": [
    {
     "name": "stdout",
     "output_type": "stream",
     "text": [
      "0\n",
      "100\n",
      "200\n",
      "300\n",
      "400\n",
      "500\n",
      "600\n",
      "700\n",
      "800\n",
      "900\n",
      "0.8758241758241758\n",
      "0.3622409823484267\n",
      "0.04731824968416217\n"
     ]
    }
   ],
   "source": [
    "correct = 0\n",
    "total = 0\n",
    "\n",
    "total_mistaken = 0\n",
    "mistaken_fixed = 0\n",
    "\n",
    "total_correct = 0\n",
    "correct_broken = 0\n",
    "\n",
    "for i in range(len(true)):\n",
    "    word_pairs = align_words(true[i], bad[i])\n",
    "    word_pairs = [('<start>', '<start>'),('<start>', '<start>')] + word_pairs\n",
    "    \n",
    "    for j in range(2, len(word_pairs)):\n",
    "        pair = (word_pairs[j][0].lower(), word_pairs[j][1].lower())\n",
    "        prev_bi = word_pairs[j-2][1] + \" \" + word_pairs[j-1][1]\n",
    "        if prev_bi not in bigrams:\n",
    "            pred = correction(pair[1])\n",
    "        else:\n",
    "            predicted = d.find_origin(pair[1])\n",
    "            max_prob = -1\n",
    "            best_word = \"\"\n",
    "            for word in predicted:\n",
    "                trigram = prev_bi + \" \" + word\n",
    "                prob = trigrams[trigram]/bigrams[prev_bi]\n",
    "                if prob > max_prob:\n",
    "                    max_prob = prob\n",
    "                    best_word = word\n",
    "            pred = best_word\n",
    "            \n",
    "        if pred == pair[0]:\n",
    "            correct += 1\n",
    "        total += 1\n",
    "        if pair[0] == pair[1]:\n",
    "            total_correct += 1\n",
    "            if pair[0] !=  pred:\n",
    "                correct_broken += 1\n",
    "        else:\n",
    "            total_mistaken += 1\n",
    "            if pair[0] == pred:\n",
    "                mistaken_fixed += 1\n",
    "        \n",
    "    if not i % 100:\n",
    "        print(i)\n",
    "        \n",
    "print(correct/total)\n",
    "print(mistaken_fixed/total_mistaken)\n",
    "print(correct_broken/total_correct)"
   ]
  },
  {
   "cell_type": "markdown",
   "metadata": {},
   "source": [
    "Модель показала себя достаточно хорошо - она почти не изменяет правильные слова, однако исправляет все так же мало ошибок, что и раньше. Однако итоговая точность стала выше"
   ]
  }
 ],
 "metadata": {
  "kernelspec": {
   "display_name": "Python 3",
   "language": "python",
   "name": "python3"
  },
  "language_info": {
   "codemirror_mode": {
    "name": "ipython",
    "version": 3
   },
   "file_extension": ".py",
   "mimetype": "text/x-python",
   "name": "python",
   "nbconvert_exporter": "python",
   "pygments_lexer": "ipython3",
   "version": "3.6.8"
  }
 },
 "nbformat": 4,
 "nbformat_minor": 2
}
