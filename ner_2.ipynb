{
 "cells": [
  {
   "cell_type": "code",
   "execution_count": 0,
   "metadata": {
    "colab": {},
    "colab_type": "code",
    "id": "Kk7pyscsKCHj"
   },
   "outputs": [],
   "source": [
    "!pip install deeppavlov"
   ]
  },
  {
   "cell_type": "code",
   "execution_count": 0,
   "metadata": {
    "colab": {},
    "colab_type": "code",
    "id": "zL-9DRtyKblQ"
   },
   "outputs": [],
   "source": [
    "!pip install tensorflow==1.15.0"
   ]
  },
  {
   "cell_type": "code",
   "execution_count": 0,
   "metadata": {
    "colab": {},
    "colab_type": "code",
    "id": "MLFaODi1KxvN"
   },
   "outputs": [],
   "source": [
    "!apt-get --yes install git"
   ]
  },
  {
   "cell_type": "code",
   "execution_count": 0,
   "metadata": {
    "colab": {},
    "colab_type": "code",
    "id": "rMLiKxCQK4NJ"
   },
   "outputs": [],
   "source": [
    "!pip install git+https://github.com/deepmipt/bert.git@feat/multi_gpu"
   ]
  },
  {
   "cell_type": "code",
   "execution_count": 0,
   "metadata": {
    "colab": {},
    "colab_type": "code",
    "id": "Mq8NAQg2K-Qy"
   },
   "outputs": [],
   "source": [
    "from google.colab import files\n",
    "uploaded = files.upload()"
   ]
  },
  {
   "cell_type": "code",
   "execution_count": 42,
   "metadata": {
    "colab": {
     "base_uri": "https://localhost:8080/",
     "height": 34
    },
    "colab_type": "code",
    "id": "g22uhLB4MXIb",
    "outputId": "354f66e9-c9a3-4f35-9058-12f6415e78cd"
   },
   "outputs": [
    {
     "name": "stdout",
     "output_type": "stream",
     "text": [
      "test.txt  train.txt  valid.txt\n"
     ]
    }
   ],
   "source": [
    "!ls *.txt"
   ]
  },
  {
   "cell_type": "code",
   "execution_count": 0,
   "metadata": {
    "colab": {},
    "colab_type": "code",
    "id": "hJG06lmQVhFm"
   },
   "outputs": [],
   "source": [
    "import json\n",
    "from deeppavlov import configs, build_model, train_model\n",
    "\n",
    "with configs.ner.ner_ontonotes_bert_mult.open(encoding='utf8') as f:\n",
    "    ner_config = json.load(f)\n",
    "\n",
    "ner_config['dataset_reader']['data_path'] = './'  \n",
    "ner_config['metadata']['variables']['NER_PATH'] = './'\n",
    "ner_config['metadata']['download'] = [ner_config['metadata']['download'][-1]]  \n",
    "ner_model = train_model(ner_config, download=True)"
   ]
  },
  {
   "cell_type": "code",
   "execution_count": 0,
   "metadata": {
    "colab": {},
    "colab_type": "code",
    "id": "7AbzH8jRV0eV"
   },
   "outputs": [],
   "source": [
    "import pandas as pd\n",
    "data = pd.read_csv('pristavki.csv', header=None, names=['text'])\n"
   ]
  },
  {
   "cell_type": "code",
   "execution_count": 0,
   "metadata": {
    "colab": {},
    "colab_type": "code",
    "id": "W64ggwNSZ1mE"
   },
   "outputs": [],
   "source": [
    "marked = []\n",
    "\n",
    "for text in data.text.values[:1000]:\n",
    "    if len(text.split()) > 100:\n",
    "        continue\n",
    "    pred = ner_model([text])\n",
    "    sent, tags = pred[0][0], pred[1][0]\n",
    "    \n",
    "    if len(set(tags[0])) > 1:\n",
    "        marked.append(list(zip(sent,tags)))"
   ]
  },
  {
   "cell_type": "markdown",
   "metadata": {
    "colab_type": "text",
    "id": "MDQepciIuvg8"
   },
   "source": [
    "Этот метод позволяет находить даже те игры, которых не было ни в тренировочной выборке, ни в тестовых:"
   ]
  },
  {
   "cell_type": "code",
   "execution_count": 38,
   "metadata": {
    "colab": {
     "base_uri": "https://localhost:8080/",
     "height": 52
    },
    "colab_type": "code",
    "id": "DPLMqJDxv_a_",
    "outputId": "4fc6b080-415a-4a23-85ca-3c376b20ecd5"
   },
   "outputs": [
    {
     "data": {
      "text/plain": [
       "[[['Killzone', '3'], ['Need', 'for', 'Speed', ':', 'Rivals']],\n",
       " [['B-GM', 'I-GM'], ['B-GM', 'I-GM', 'I-GM', 'O', 'B-GM']]]"
      ]
     },
     "execution_count": 38,
     "metadata": {
      "tags": []
     },
     "output_type": "execute_result"
    }
   ],
   "source": [
    "ner_model(['Killzone 3', 'Need for Speed: Rivals'])"
   ]
  },
  {
   "cell_type": "markdown",
   "metadata": {
    "colab_type": "text",
    "id": "_CNQwgQ6wDBf"
   },
   "source": [
    "Однако есть проблемы с тем, чтоб находить игры по переведенному названию, а также тем, чтобы находить некоторые из игр вне контекста:"
   ]
  },
  {
   "cell_type": "code",
   "execution_count": 39,
   "metadata": {
    "colab": {
     "base_uri": "https://localhost:8080/",
     "height": 69
    },
    "colab_type": "code",
    "id": "EN0xdmjLvdhs",
    "outputId": "047282f2-0810-46bb-8d1d-c03fc25de7dd"
   },
   "outputs": [
    {
     "data": {
      "text/plain": [
       "[[['Farcry', 'primal', '1500', 'и', 'За', 'гранью', '1500', '.'],\n",
       "  ['Farcry', 'primal']],\n",
       " [['B-GM', 'B-GM', 'I-GM', 'O', 'O', 'O', 'O', 'O'], ['B-GM', 'O']]]"
      ]
     },
     "execution_count": 39,
     "metadata": {
      "tags": []
     },
     "output_type": "execute_result"
    }
   ],
   "source": [
    "ner_model(['Farcry primal 1500 и За гранью 1500.', 'Farcry primal'])"
   ]
  },
  {
   "cell_type": "markdown",
   "metadata": {
    "colab_type": "text",
    "id": "E4YWB9m2wxy_"
   },
   "source": [
    "Некоторые из сабтайтлов у игр также не распознаются как части названия игр:"
   ]
  },
  {
   "cell_type": "code",
   "execution_count": 41,
   "metadata": {
    "colab": {
     "base_uri": "https://localhost:8080/",
     "height": 156
    },
    "colab_type": "code",
    "id": "dOzNn2kCvDXD",
    "outputId": "bc3847fb-3e0c-404c-ba84-9626f8df10f9"
   },
   "outputs": [
    {
     "data": {
      "text/plain": [
       "[[[\"Assassin's\", 'Creed', 'Syndicate'],\n",
       "  ['продам', \"Assassin's\", 'Creed', 'Syndicate'],\n",
       "  ['Watch', 'Dogs', '2', 'Deluxe', 'Edition'],\n",
       "  ['продам', 'Watch', 'Dogs', '2', 'Deluxe', 'Edition']],\n",
       " [['B-GM', 'I-GM', 'B-GM'],\n",
       "  ['O', 'B-GM', 'I-GM', 'B-GM'],\n",
       "  ['B-GM', 'I-GM', 'I-GM', 'O', 'O'],\n",
       "  ['O', 'B-GM', 'I-GM', 'O', 'O', 'O']]]"
      ]
     },
     "execution_count": 41,
     "metadata": {
      "tags": []
     },
     "output_type": "execute_result"
    }
   ],
   "source": [
    "ner_model(['Assassin\\'s Creed Syndicate', 'продам Assassin\\'s Creed Syndicate', 'Watch Dogs 2 Deluxe Edition', 'продам Watch Dogs 2 Deluxe Edition'])"
   ]
  },
  {
   "cell_type": "code",
   "execution_count": 0,
   "metadata": {
    "colab": {},
    "colab_type": "code",
    "id": "blp1YHOwunXR"
   },
   "outputs": [],
   "source": []
  }
 ],
 "metadata": {
  "colab": {
   "name": "Untitled0.ipynb",
   "provenance": []
  },
  "kernelspec": {
   "display_name": "Python 3",
   "language": "python",
   "name": "python3"
  },
  "language_info": {
   "codemirror_mode": {
    "name": "ipython",
    "version": 3
   },
   "file_extension": ".py",
   "mimetype": "text/x-python",
   "name": "python",
   "nbconvert_exporter": "python",
   "pygments_lexer": "ipython3",
   "version": "3.6.8"
  }
 },
 "nbformat": 4,
 "nbformat_minor": 1
}
